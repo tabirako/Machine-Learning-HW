{
 "cells": [
  {
   "cell_type": "markdown",
   "id": "75ac6431-ded2-4308-b90e-38b0a67a9fc6",
   "metadata": {},
   "source": [
    "### 需要的函式"
   ]
  },
  {
   "cell_type": "code",
   "execution_count": 1,
   "id": "4ca41acc-75cb-4534-ae5e-8e53a385ef2d",
   "metadata": {},
   "outputs": [],
   "source": [
    "from sklearn.model_selection import train_test_split\n",
    "from sklearn.datasets import load_wine\n",
    "from sklearn import tree\n",
    "import pydotplus\n",
    "import graphviz"
   ]
  },
  {
   "cell_type": "code",
   "execution_count": 2,
   "id": "e5b873ae-1ef5-4a21-8850-ef5e891c6848",
   "metadata": {},
   "outputs": [],
   "source": [
    "wine = load_wine()"
   ]
  },
  {
   "cell_type": "markdown",
   "id": "68b57246-ffcc-4a7a-ba32-c80c15a81158",
   "metadata": {},
   "source": [
    "### data是資料 target是目標的類別"
   ]
  },
  {
   "cell_type": "code",
   "execution_count": 3,
   "id": "efa8d271-8831-4a29-8836-6504c9d75ac1",
   "metadata": {},
   "outputs": [],
   "source": [
    "X = wine.data\n",
    "y = wine.target"
   ]
  },
  {
   "cell_type": "code",
   "execution_count": 4,
   "id": "288482af-63e3-4c4c-a852-0f7c7e240a8e",
   "metadata": {},
   "outputs": [],
   "source": [
    "X_train, X_test, y_train, y_test = train_test_split(X, y, test_size=0.3)"
   ]
  },
  {
   "cell_type": "markdown",
   "id": "5d3d2eb4-235c-476f-a05a-682516dae4c3",
   "metadata": {},
   "source": [
    "### 載入訓練和測試集"
   ]
  },
  {
   "cell_type": "code",
   "execution_count": 5,
   "id": "e6ee3bf2-5290-4321-bf18-4a3b21d7af7b",
   "metadata": {},
   "outputs": [],
   "source": [
    "clf = tree.DecisionTreeClassifier(criterion='entropy').fit(X_train,y_train)"
   ]
  },
  {
   "cell_type": "markdown",
   "id": "5b4ae501-53bc-4450-8994-d48ab22eeff3",
   "metadata": {},
   "source": [
    "### 預測成果"
   ]
  },
  {
   "cell_type": "code",
   "execution_count": 17,
   "id": "e268e222-d429-47a6-8e09-6d07790d5e53",
   "metadata": {},
   "outputs": [
    {
     "name": "stdout",
     "output_type": "stream",
     "text": [
      "0.9074074074074074\n"
     ]
    }
   ],
   "source": [
    "print(clf.score(X_test,y_test))"
   ]
  },
  {
   "cell_type": "code",
   "execution_count": 7,
   "id": "8fdb650c-f26f-4645-ba42-d581cbdbdc15",
   "metadata": {},
   "outputs": [],
   "source": [
    "#改中文\n",
    "wine.feature_names = ['酒精',\n",
    "                      '蘋果酸',\n",
    "                      '灰',\n",
    "                      '灰分的鹼度',\n",
    "                      '鎂',\n",
    "                      '總酚',\n",
    "                      '黃酮類化合物',\n",
    "                      '非黃烷類酚類',\n",
    "                      '原花色素',\n",
    "                      '顏色強度',\n",
    "                      '色調',\n",
    "                      '稀釋葡萄酒的OD280 / OD315',\n",
    "                      '脯氨酸']\n",
    "                      "
   ]
  },
  {
   "cell_type": "markdown",
   "id": "153b632a-7446-49b3-994a-4ef1b4e3280f",
   "metadata": {},
   "source": [
    "### 印出決策樹"
   ]
  },
  {
   "cell_type": "code",
   "execution_count": 8,
   "id": "ee2701c0-f409-4460-b8f5-4a14b8e61ba6",
   "metadata": {},
   "outputs": [
    {
     "data": {
      "text/plain": [
       "'Source.gv.pdf'"
      ]
     },
     "execution_count": 8,
     "metadata": {},
     "output_type": "execute_result"
    }
   ],
   "source": [
    "\n",
    "\n",
    "dot_data = tree.export_graphviz(clf, out_file='tree.dot', feature_names=wine.feature_names, class_names=wine.target_names, filled=True, rounded=True)\n",
    "with open(\"tree.dot\", encoding='utf-8') as f:\n",
    "    dot_graph = f.read()\n",
    "    graph = graphviz.Source(dot_graph.replace(\"helvetica\", \"PMingLiu\"))\n",
    "graph.view()"
   ]
  },
  {
   "cell_type": "markdown",
   "id": "81ba4c9f-f70e-40cf-a83b-6d2c0834acb2",
   "metadata": {},
   "source": []
  },
  {
   "cell_type": "code",
   "execution_count": null,
   "id": "d6b4f220-4b7a-4ef2-b414-68f7867c5e01",
   "metadata": {},
   "outputs": [],
   "source": []
  }
 ],
 "metadata": {
  "kernelspec": {
   "display_name": "Python 3 (ipykernel)",
   "language": "python",
   "name": "python3"
  },
  "language_info": {
   "codemirror_mode": {
    "name": "ipython",
    "version": 3
   },
   "file_extension": ".py",
   "mimetype": "text/x-python",
   "name": "python",
   "nbconvert_exporter": "python",
   "pygments_lexer": "ipython3",
   "version": "3.9.7"
  }
 },
 "nbformat": 4,
 "nbformat_minor": 5
}
